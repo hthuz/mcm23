{
 "cells": [
  {
   "cell_type": "code",
   "execution_count": 63,
   "metadata": {},
   "outputs": [],
   "source": [
    "# Take start# and end$ into consideration\n",
    "import pandas as pd\n",
    "import re\n",
    "import math\n",
    "\n",
    "def read_data():\n",
    "    df = pd.read_excel('./prep_data.xlsx',header = 0)\n",
    "    df = df[df.columns[1:]]\n",
    "    words = df['Word'].to_list()\n",
    "    for i in range(len(words)):\n",
    "        words[i] = '#' + words[i] + '$'\n",
    "\n",
    "    data = []\n",
    "    for i in range(len(words)):\n",
    "        for letter in list(words[i]):\n",
    "            data.append(letter)\n",
    "\n",
    "    return words,data\n",
    "\n",
    "def create_bigram(data):\n",
    "    bigram_list = []\n",
    "    bigram_cnt = {}\n",
    "    unigram_cnt = {}\n",
    "    for i in range(len(data)):\n",
    "        if i < len(data) - 1 and (i % 7 != 6):\n",
    "            bigram_list.append( (data[i],data[i + 1]))\n",
    "\n",
    "            if (data[i], data[i + 1]) in bigram_cnt:\n",
    "                bigram_cnt[(data[i], data[i + 1])] += 1\n",
    "            else:\n",
    "                bigram_cnt[(data[i], data[i + 1])] = 1 \n",
    "        \n",
    "        if(data[i] in unigram_cnt):\n",
    "            unigram_cnt[data[i]] += 1\n",
    "        else:\n",
    "            unigram_cnt[data[i]] = 1\n",
    "\n",
    "    return bigram_list,bigram_cnt, unigram_cnt\n",
    "\n",
    "def get_bigram_prob(bigram_list, bigram_cnt, unigram_cnt):\n",
    "    bigram_prob = {}\n",
    "    for bigram in bigram_list:\n",
    "        letter1 = bigram[0]\n",
    "        letter2 = bigram[1]\n",
    "        bigram_prob[bigram] = (bigram_cnt[bigram]) / (unigram_cnt[letter1])\n",
    "\n",
    "    return bigram_prob\n",
    "\n",
    "def get_word_prob(word,bigram_prob):\n",
    "    letters = list(word)\n",
    "    word_bigram_list = []\n",
    "    output_prob = 1\n",
    "\n",
    "    for i in range(len(letters) - 1):\n",
    "        word_bigram_list.append((letters[i], letters[i + 1]))\n",
    "\n",
    "    for i in range(len(word_bigram_list)):\n",
    "        if word_bigram_list[i] in bigram_prob:\n",
    "            output_prob *= bigram_prob[word_bigram_list[i]]\n",
    "        else:\n",
    "            output_prob *= 0\n",
    "        \n",
    "    return output_prob\n",
    "\n",
    "def output_data(words,bigram_prob):\n",
    "    df = pd.read_excel('./prep_data.xlsx',header = 0)\n",
    "    df = df[df.columns[1:]]\n",
    "    prob_lists = []\n",
    "    for i in range(len(words)):\n",
    "        prob_lists.append(get_word_prob(words[i],bigram_prob))\n",
    "    df['probability'] = pd.DataFrame(prob_lists)\n",
    "    df.to_excel('./myprep_data.xlsx')\n",
    "\n",
    "    return\n",
    "\n",
    "## Main Function\n",
    "words, data = read_data()\n",
    "bigram_list, bigram_cnt, unigram_cnt = create_bigram(data)\n",
    "bigram_prob = get_bigram_prob(bigram_list, bigram_cnt, unigram_cnt)\n",
    "# output_data(words,bigram_prob)\n"
   ]
  },
  {
   "cell_type": "code",
   "execution_count": 68,
   "metadata": {},
   "outputs": [
    {
     "data": {
      "text/plain": [
       "0.0004710156206645923"
      ]
     },
     "execution_count": 68,
     "metadata": {},
     "output_type": "execute_result"
    }
   ],
   "source": [
    "get_word_prob('#the$',bigram_prob)"
   ]
  }
 ],
 "metadata": {
  "kernelspec": {
   "display_name": "base",
   "language": "python",
   "name": "python3"
  },
  "language_info": {
   "codemirror_mode": {
    "name": "ipython",
    "version": 3
   },
   "file_extension": ".py",
   "mimetype": "text/x-python",
   "name": "python",
   "nbconvert_exporter": "python",
   "pygments_lexer": "ipython3",
   "version": "3.9.7"
  },
  "orig_nbformat": 4,
  "vscode": {
   "interpreter": {
    "hash": "88279d2366fe020547cde40dd65aa0e3aa662a6ec1f3ca12d88834876c85e1a6"
   }
  }
 },
 "nbformat": 4,
 "nbformat_minor": 2
}
