{
 "cells": [
  {
   "cell_type": "code",
   "execution_count": 146,
   "metadata": {},
   "outputs": [],
   "source": [
    "# import necessary libs\n",
    "import numpy as np\n",
    "import pandas as pd\n",
    "from scipy import optimize\n",
    "import scipy as sp\n",
    "import sympy as sy\n",
    "from datetime import datetime\n",
    "import matplotlib.pyplot as plt\n",
    "pd.set_option('display.max_rows',None)"
   ]
  },
  {
   "cell_type": "code",
   "execution_count": 165,
   "metadata": {},
   "outputs": [],
   "source": [
    "# Set right font display style\n",
    "plt.rcParams[\"font.sans-serif\"]=[\"Times New Roman\"]\n",
    "plt.rcParams[\"axes.unicode_minus\"]=False\n",
    "# Read file.\n",
    "# df contains all the data.\n",
    "df = pd.read_excel('./raw_data.xlsx', header = 1)\n",
    "df = df[df.columns[1:]]\n",
    "# display the data\n",
    "df.head()\n",
    "# data pre-processing\n",
    "# delete the data which is extremly different from the siblings\n",
    "## set the sum of the possibility of tries to one.\n",
    "df = df.sort_values(by='Contest number')\n",
    "percent = df[df.columns[5:]].sum(axis=1)\n",
    "list1 = []\n",
    "# if the sum of the distribution of trials\n",
    "# then drop the data.\n",
    "for i in range(len(percent)):\n",
    "    if percent[i] != 100 or percent[i] != 99 or percent[i] != 101:\n",
    "        list1.append(i)\n",
    "df.drop(index = list1)\n",
    "for column in df.columns[5:]:\n",
    "    df[column]=df[column]/percent*100\n",
    "## counting the word_length of the set.  \n",
    "df['word_len'] = df['Word'].apply(lambda x:len(x))\n",
    "df['repeated_num'] = df['Word'].apply(lambda x:len(x) - len(set(x)))\n",
    "## calculating the hard mode rate.\n",
    "df['hard_mode_rate'] = df['Number in hard mode']/df['Number of  reported results']\n",
    "### delete the length != 5\n",
    "list1 = []\n",
    "for i in range(len(df)):\n",
    "    if df['word_len'][i] != 5:\n",
    "        list1.append(i)\n",
    "df.drop(index = list1, inplace=True)\n",
    "df.to_excel('./prep_data.xlsx') "
   ]
  }
 ],
 "metadata": {
  "kernelspec": {
   "display_name": "Python 3",
   "language": "python",
   "name": "python3"
  },
  "language_info": {
   "codemirror_mode": {
    "name": "ipython",
    "version": 3
   },
   "file_extension": ".py",
   "mimetype": "text/x-python",
   "name": "python",
   "nbconvert_exporter": "python",
   "pygments_lexer": "ipython3",
   "version": "3.8.3"
  }
 },
 "nbformat": 4,
 "nbformat_minor": 4
}
